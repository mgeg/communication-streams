{
 "cells": [
  {
   "cell_type": "markdown",
   "id": "2208cba8",
   "metadata": {},
   "source": [
    "# Streams, Pipes, and Redirection "
   ]
  },
  {
   "cell_type": "markdown",
   "id": "5c6ad030",
   "metadata": {},
   "source": [
    "1. What is streams?\n",
    "2. How does it work?\n",
    "3. Power of operating streams"
   ]
  },
  {
   "cell_type": "markdown",
   "id": "c527bd7a",
   "metadata": {},
   "source": [
    "## Terminal Streams:\n",
    "Input >> Command >> Output"
   ]
  },
  {
   "cell_type": "markdown",
   "id": "c03b5186",
   "metadata": {},
   "source": [
    "## Pipe (\" | \"): \n",
    "passing standard output of one program to the standard input to another program"
   ]
  },
  {
   "cell_type": "code",
   "execution_count": 1,
   "id": "59834c98",
   "metadata": {},
   "outputs": [
    {
     "name": "stdout",
     "output_type": "stream",
     "text": [
      "README.md          Streams.ipynb      \u001b[34mcode\u001b[m\u001b[m               \u001b[34mpictures\u001b[m\u001b[m\n",
      "Streams copy.ipynb bill_unpaid1.csv   \u001b[34mdata\u001b[m\u001b[m\n"
     ]
    }
   ],
   "source": [
    "!ls"
   ]
  },
  {
   "cell_type": "code",
   "execution_count": 2,
   "id": "3fee29d7",
   "metadata": {},
   "outputs": [
    {
     "name": "stdout",
     "output_type": "stream",
     "text": [
      "       7       8      79\n"
     ]
    }
   ],
   "source": [
    "!ls | wc"
   ]
  },
  {
   "cell_type": "markdown",
   "id": "7472f59d",
   "metadata": {},
   "source": [
    "## Input/Output Redirection (\"<\" or \">\"):\n",
    "hook process standard input/output to a file"
   ]
  },
  {
   "cell_type": "code",
   "execution_count": 3,
   "id": "9d5b1fa7",
   "metadata": {},
   "outputs": [
    {
     "name": "stdout",
     "output_type": "stream",
     "text": [
      "cat: bill_shortcut.csv: No such file or directory\n"
     ]
    }
   ],
   "source": [
    "!head -5 ./data/Bill.csv > ./data/bill_shortcut.csv\n",
    "!cat bill_shortcut.csv"
   ]
  },
  {
   "cell_type": "code",
   "execution_count": 4,
   "id": "2256e03e",
   "metadata": {},
   "outputs": [
    {
     "name": "stdout",
     "output_type": "stream",
     "text": [
      "Connie,30,30-Jul,paid",
      "\n",
      "David,20,1-Aug,paid",
      "\n",
      "Jams,20,16-Jul,paid",
      "\n",
      "Jim,30,20-Aug,paid",
      "\n",
      "﻿Name,Bill,Time,Pay",
      "\n"
     ]
    }
   ],
   "source": [
    "!sort < ./data/bill_shortcut.csv"
   ]
  },
  {
   "cell_type": "markdown",
   "id": "d1c0ae87",
   "metadata": {},
   "source": [
    "## Append:\n",
    "redirect and append output of a program to a file"
   ]
  },
  {
   "cell_type": "code",
   "execution_count": 5,
   "id": "b54b2e12",
   "metadata": {},
   "outputs": [
    {
     "name": "stdout",
     "output_type": "stream",
     "text": [
      "﻿Name,Bill,Time,Pay",
      "\n",
      "Jams,20,16-Jul,paid",
      "\n",
      "Connie,30,30-Jul,paid",
      "\n",
      "David,20,1-Aug,paid",
      "\n",
      "Jim,30,20-Aug,paid",
      "\n",
      "Wei,20,10-Sep,unpaid",
      "\n",
      "Wei,30,12-Sep,unpaid",
      "\n",
      "Wei,20,15-Sep,unpaid",
      "\n",
      "Wei,30,17-Sep,unpaid",
      "\n",
      "Wei,20,20-Sep,unpaid\n"
     ]
    }
   ],
   "source": [
    "!grep Wei ./data/Bill.csv >> ./data/bill_shortcut.csv\n",
    "!cat ./data/bill_shortcut.csv"
   ]
  },
  {
   "cell_type": "markdown",
   "id": "3016d677",
   "metadata": {},
   "source": [
    "## More complex in reality:"
   ]
  },
  {
   "cell_type": "code",
   "execution_count": 6,
   "id": "e57bdb41",
   "metadata": {},
   "outputs": [
    {
     "name": "stdout",
     "output_type": "stream",
     "text": [
      "1112223333\n",
      "8006927753\n",
      "800myapple\n"
     ]
    }
   ],
   "source": [
    "!cat ./data/input.txt"
   ]
  },
  {
   "cell_type": "code",
   "execution_count": 7,
   "id": "b00bd648",
   "metadata": {},
   "outputs": [
    {
     "name": "stdout",
     "output_type": "stream",
     "text": [
      "(111) 222-3333\n",
      "(800) 692-7753\n",
      "(800) mya-pple\n"
     ]
    }
   ],
   "source": [
    "!python ./code/split_num.py < ./data/input.txt > ./data/output.txt\n",
    "!cat ./data/output.txt"
   ]
  },
  {
   "cell_type": "code",
   "execution_count": 8,
   "id": "f647dcd6",
   "metadata": {},
   "outputs": [
    {
     "name": "stdout",
     "output_type": "stream",
     "text": [
      "Connie\n",
      "David\n",
      "Jams\n",
      "Jim\n",
      "Wei\n"
     ]
    }
   ],
   "source": [
    "!csvcut -c 1 -e latin1 ./data/bill_shortcut.csv | tail +2 | sort | uniq"
   ]
  },
  {
   "cell_type": "markdown",
   "id": "269938b4",
   "metadata": {},
   "source": [
    "## Power of operating streams:"
   ]
  },
  {
   "cell_type": "code",
   "execution_count": 9,
   "id": "56d59257",
   "metadata": {},
   "outputs": [
    {
     "data": {
      "text/html": [
       "<div>\n",
       "<style scoped>\n",
       "    .dataframe tbody tr th:only-of-type {\n",
       "        vertical-align: middle;\n",
       "    }\n",
       "\n",
       "    .dataframe tbody tr th {\n",
       "        vertical-align: top;\n",
       "    }\n",
       "\n",
       "    .dataframe thead th {\n",
       "        text-align: right;\n",
       "    }\n",
       "</style>\n",
       "<table border=\"1\" class=\"dataframe\">\n",
       "  <thead>\n",
       "    <tr style=\"text-align: right;\">\n",
       "      <th></th>\n",
       "      <th>Name</th>\n",
       "      <th>Bill</th>\n",
       "      <th>Time</th>\n",
       "      <th>Pay</th>\n",
       "    </tr>\n",
       "  </thead>\n",
       "  <tbody>\n",
       "    <tr>\n",
       "      <th>4</th>\n",
       "      <td>Wei</td>\n",
       "      <td>20</td>\n",
       "      <td>10-Sep</td>\n",
       "      <td>unpaid</td>\n",
       "    </tr>\n",
       "    <tr>\n",
       "      <th>5</th>\n",
       "      <td>Wei</td>\n",
       "      <td>30</td>\n",
       "      <td>12-Sep</td>\n",
       "      <td>unpaid</td>\n",
       "    </tr>\n",
       "    <tr>\n",
       "      <th>6</th>\n",
       "      <td>Wei</td>\n",
       "      <td>20</td>\n",
       "      <td>15-Sep</td>\n",
       "      <td>unpaid</td>\n",
       "    </tr>\n",
       "    <tr>\n",
       "      <th>7</th>\n",
       "      <td>Wei</td>\n",
       "      <td>30</td>\n",
       "      <td>17-Sep</td>\n",
       "      <td>unpaid</td>\n",
       "    </tr>\n",
       "    <tr>\n",
       "      <th>8</th>\n",
       "      <td>Wei</td>\n",
       "      <td>20</td>\n",
       "      <td>20-Sep</td>\n",
       "      <td>unpaid</td>\n",
       "    </tr>\n",
       "  </tbody>\n",
       "</table>\n",
       "</div>"
      ],
      "text/plain": [
       "  Name  Bill    Time     Pay\n",
       "4  Wei    20  10-Sep  unpaid\n",
       "5  Wei    30  12-Sep  unpaid\n",
       "6  Wei    20  15-Sep  unpaid\n",
       "7  Wei    30  17-Sep  unpaid\n",
       "8  Wei    20  20-Sep  unpaid"
      ]
     },
     "execution_count": 9,
     "metadata": {},
     "output_type": "execute_result"
    }
   ],
   "source": [
    "# Data processing in python.\n",
    "import pandas as pd\n",
    "\n",
    "df = pd.read_csv('./data/Bill.csv')\n",
    "df = df[df['Pay'] == 'unpaid']\n",
    "df = df.iloc[0:5]\n",
    "df.to_csv('./data/bill_unpaid1.csv', sep='\\t', index=False)\n",
    "df\n"
   ]
  },
  {
   "cell_type": "code",
   "execution_count": 10,
   "id": "b929170a",
   "metadata": {
    "scrolled": true
   },
   "outputs": [
    {
     "name": "stdout",
     "output_type": "stream",
     "text": [
      "Wei,20,10-Sep,unpaid",
      "\n",
      "Wei,30,12-Sep,unpaid",
      "\n",
      "Wei,20,15-Sep,unpaid",
      "\n",
      "Wei,30,17-Sep,unpaid",
      "\n",
      "Wei,20,20-Sep,unpaid\n"
     ]
    }
   ],
   "source": [
    "# Using streams and I/O redirection.\n",
    "!grep 'unpaid' ./data/Bill.csv | head -5 > ./data/bill_unpaid2.csv\n",
    "!cat './data/bill_unpaid2.csv'"
   ]
  },
  {
   "cell_type": "code",
   "execution_count": 11,
   "id": "7ce90a6a",
   "metadata": {},
   "outputs": [
    {
     "name": "stdout",
     "output_type": "stream",
     "text": [
      "   5 wei\n",
      "   1 jim\n",
      "   1 jams\n",
      "   1 david\n",
      "   1 connie\n"
     ]
    }
   ],
   "source": [
    "# Even in more complicated case, we still just need one line.\n",
    "!csvcut -c 1 -e latin1 ./data/Bill.csv |tail +2 |tr 'A-Z' 'a-z'| uniq -c |sort -r -n"
   ]
  }
 ],
 "metadata": {
  "kernelspec": {
   "display_name": "Python 3",
   "language": "python",
   "name": "python3"
  },
  "language_info": {
   "codemirror_mode": {
    "name": "ipython",
    "version": 3
   },
   "file_extension": ".py",
   "mimetype": "text/x-python",
   "name": "python",
   "nbconvert_exporter": "python",
   "pygments_lexer": "ipython3",
   "version": "3.8.8"
  },
  "toc": {
   "base_numbering": 1,
   "nav_menu": {},
   "number_sections": true,
   "sideBar": true,
   "skip_h1_title": false,
   "title_cell": "Table of Contents",
   "title_sidebar": "Contents",
   "toc_cell": false,
   "toc_position": {},
   "toc_section_display": true,
   "toc_window_display": false
  }
 },
 "nbformat": 4,
 "nbformat_minor": 5
}
